{
 "cells": [
  {
   "cell_type": "code",
   "execution_count": 1,
   "metadata": {
    "collapsed": true
   },
   "outputs": [],
   "source": [
    "# Implementation of a xgboost regressor\n"
   ]
  },
  {
   "cell_type": "code",
   "execution_count": 2,
   "metadata": {
    "collapsed": true
   },
   "outputs": [],
   "source": [
    "@import tensorflow as tf\n",
    "import numpy as np\n",
    "import pandas as pd\n",
    "from sklearn import metrics\n",
    "from sklearn.model_selection import train_test_split\n",
    "import xgboost as xgb\n",
    "from sklearn.cross_validation import KFold"
   ]
  },
  {
   "cell_type": "code",
   "execution_count": 3,
   "metadata": {
    "collapsed": true
   },
   "outputs": [],
   "source": [
    "# make function to preprocess data\n",
    "def preprocess_data(data_path, labels_path=None):\n",
    "    # load data and set index to city, year, weekofyear\n",
    "    df = pd.read_csv(data_path)\n",
    "    \n",
    "    # fill missing values\n",
    "    df.fillna(method='ffill', inplace=True)\n",
    "\n",
    "    # add labels to dataframe\n",
    "    if labels_path:\n",
    "        labels = pd.read_csv(labels_path)\n",
    "        #df = df.join(labels)\n",
    "    \n",
    "    # separate san juan and iquitos\n",
    "    sj_features = df[df.city == 'sj']\n",
    "    iq_features = df[df.city == 'iq']\n",
    "    if labels_path:\n",
    "        sj_labels = labels[labels.city == 'sj']\n",
    "        iq_labels = labels[labels.city == 'iq']    \n",
    "        return sj_features, iq_features, sj_labels, iq_labels\n",
    "    return sj_features, iq_features"
   ]
  },
  {
   "cell_type": "code",
   "execution_count": 4,
   "metadata": {
    "collapsed": true
   },
   "outputs": [],
   "source": [
    "sj_features, iq_features, sj_labels, iq_labels = preprocess_data(\n",
    "                                                                'data/dengue_features_train.csv',\n",
    "                                                                labels_path=\"data/dengue_labels_train.csv\")"
   ]
  },
  {
   "cell_type": "code",
   "execution_count": 5,
   "metadata": {
    "collapsed": true
   },
   "outputs": [],
   "source": [
    "#load final test data\n",
    "sj_test_final, iq_test_final = preprocess_data(\"data/dengue_features_test.csv\")"
   ]
  },
  {
   "cell_type": "code",
   "execution_count": 6,
   "metadata": {},
   "outputs": [
    {
     "data": {
      "text/plain": [
       "0    4\n",
       "1    5\n",
       "2    4\n",
       "3    3\n",
       "4    6\n",
       "Name: total_cases, dtype: int64"
      ]
     },
     "execution_count": 6,
     "metadata": {},
     "output_type": "execute_result"
    }
   ],
   "source": [
    "#dropping date and city as city already divided\n",
    "\n",
    "iq_features = iq_features.drop(iq_features.columns[[0,3]], axis=1)\n",
    "sj_features = sj_features.drop(sj_features.columns[[0,3]], axis=1)\n",
    "sj_test_final = sj_test_final.drop(sj_test_final.columns[[0,3]], axis=1)\n",
    "iq_test_final = iq_test_final.drop(iq_test_final.columns[[0,3]], axis=1)\n",
    "\n",
    "#removing city, year, weekofyear from labels tables\n",
    "sj_labels = sj_labels.total_cases\n",
    "#sj_labels = sj_labels.set_index([0,2])\n",
    "iq_labels = iq_labels.total_cases\n",
    "\n",
    "\n",
    "sj_labels.head()"
   ]
  },
  {
   "cell_type": "code",
   "execution_count": 7,
   "metadata": {
    "collapsed": true
   },
   "outputs": [],
   "source": [
    "#since data is linear it makes sense to separate data linearly\n",
    "#split train and test data\n",
    "\n",
    "sj_train = sj_features.head(800)\n",
    "sj_train_target = sj_labels.head(800)\n",
    "sj_test = sj_features.tail(sj_features.shape[0] - 800)\n",
    "sj_test_target = sj_labels.tail(sj_labels.shape[0] - 800)\n",
    "\n",
    "\n",
    "\n",
    "iq_train = iq_features.head(400)\n",
    "iq_train_target = iq_labels.head(400)\n",
    "iq_test = iq_features.tail(iq_features.shape[0] - 400)\n",
    "iq_test_target = iq_labels.tail(iq_labels.shape[0] - 400)\n"
   ]
  },
  {
   "cell_type": "code",
   "execution_count": 8,
   "metadata": {
    "collapsed": true
   },
   "outputs": [],
   "source": [
    "#randomly separating data\n",
    "# splitting data into training set and validation set\n",
    "\n",
    "sj_train, sj_test, sj_train_target, sj_test_target = train_test_split(sj_features, sj_labels, test_size=0.2, random_state=41)\n",
    "\n",
    "iq_train, iq_test, iq_train_target, iq_test_target = train_test_split(iq_features, iq_labels, test_size=0.2, random_state=41)"
   ]
  },
  {
   "cell_type": "code",
   "execution_count": 9,
   "metadata": {},
   "outputs": [
    {
     "data": {
      "text/html": [
       "<div>\n",
       "<style>\n",
       "    .dataframe thead tr:only-child th {\n",
       "        text-align: right;\n",
       "    }\n",
       "\n",
       "    .dataframe thead th {\n",
       "        text-align: left;\n",
       "    }\n",
       "\n",
       "    .dataframe tbody tr th {\n",
       "        vertical-align: top;\n",
       "    }\n",
       "</style>\n",
       "<table border=\"1\" class=\"dataframe\">\n",
       "  <thead>\n",
       "    <tr style=\"text-align: right;\">\n",
       "      <th></th>\n",
       "      <th>year</th>\n",
       "      <th>weekofyear</th>\n",
       "      <th>ndvi_ne</th>\n",
       "      <th>ndvi_nw</th>\n",
       "      <th>ndvi_se</th>\n",
       "      <th>ndvi_sw</th>\n",
       "      <th>precipitation_amt_mm</th>\n",
       "      <th>reanalysis_air_temp_k</th>\n",
       "      <th>reanalysis_avg_temp_k</th>\n",
       "      <th>reanalysis_dew_point_temp_k</th>\n",
       "      <th>...</th>\n",
       "      <th>reanalysis_precip_amt_kg_per_m2</th>\n",
       "      <th>reanalysis_relative_humidity_percent</th>\n",
       "      <th>reanalysis_sat_precip_amt_mm</th>\n",
       "      <th>reanalysis_specific_humidity_g_per_kg</th>\n",
       "      <th>reanalysis_tdtr_k</th>\n",
       "      <th>station_avg_temp_c</th>\n",
       "      <th>station_diur_temp_rng_c</th>\n",
       "      <th>station_max_temp_c</th>\n",
       "      <th>station_min_temp_c</th>\n",
       "      <th>station_precip_mm</th>\n",
       "    </tr>\n",
       "  </thead>\n",
       "  <tbody>\n",
       "    <tr>\n",
       "      <th>75</th>\n",
       "      <td>1991</td>\n",
       "      <td>41</td>\n",
       "      <td>0.09300</td>\n",
       "      <td>0.093000</td>\n",
       "      <td>0.145083</td>\n",
       "      <td>0.168167</td>\n",
       "      <td>32.10</td>\n",
       "      <td>299.562857</td>\n",
       "      <td>299.671429</td>\n",
       "      <td>295.887143</td>\n",
       "      <td>...</td>\n",
       "      <td>55.10</td>\n",
       "      <td>80.515714</td>\n",
       "      <td>32.10</td>\n",
       "      <td>17.344286</td>\n",
       "      <td>2.257143</td>\n",
       "      <td>27.657143</td>\n",
       "      <td>6.614286</td>\n",
       "      <td>31.7</td>\n",
       "      <td>22.8</td>\n",
       "      <td>8.3</td>\n",
       "    </tr>\n",
       "    <tr>\n",
       "      <th>119</th>\n",
       "      <td>1992</td>\n",
       "      <td>33</td>\n",
       "      <td>0.16395</td>\n",
       "      <td>0.126650</td>\n",
       "      <td>0.215057</td>\n",
       "      <td>0.219271</td>\n",
       "      <td>65.55</td>\n",
       "      <td>299.215714</td>\n",
       "      <td>299.221429</td>\n",
       "      <td>296.007143</td>\n",
       "      <td>...</td>\n",
       "      <td>81.80</td>\n",
       "      <td>82.750000</td>\n",
       "      <td>65.55</td>\n",
       "      <td>17.415714</td>\n",
       "      <td>1.957143</td>\n",
       "      <td>27.671429</td>\n",
       "      <td>7.557143</td>\n",
       "      <td>31.7</td>\n",
       "      <td>22.8</td>\n",
       "      <td>41.9</td>\n",
       "    </tr>\n",
       "    <tr>\n",
       "      <th>882</th>\n",
       "      <td>2007</td>\n",
       "      <td>16</td>\n",
       "      <td>0.06890</td>\n",
       "      <td>0.044267</td>\n",
       "      <td>0.108357</td>\n",
       "      <td>0.085029</td>\n",
       "      <td>0.00</td>\n",
       "      <td>299.335714</td>\n",
       "      <td>299.557143</td>\n",
       "      <td>294.507143</td>\n",
       "      <td>...</td>\n",
       "      <td>2.22</td>\n",
       "      <td>74.832857</td>\n",
       "      <td>0.00</td>\n",
       "      <td>15.854286</td>\n",
       "      <td>3.000000</td>\n",
       "      <td>27.728571</td>\n",
       "      <td>8.014286</td>\n",
       "      <td>33.3</td>\n",
       "      <td>22.8</td>\n",
       "      <td>1.8</td>\n",
       "    </tr>\n",
       "    <tr>\n",
       "      <th>319</th>\n",
       "      <td>1996</td>\n",
       "      <td>25</td>\n",
       "      <td>0.07125</td>\n",
       "      <td>0.064600</td>\n",
       "      <td>0.146100</td>\n",
       "      <td>0.156171</td>\n",
       "      <td>47.93</td>\n",
       "      <td>298.490000</td>\n",
       "      <td>298.564286</td>\n",
       "      <td>295.435714</td>\n",
       "      <td>...</td>\n",
       "      <td>73.70</td>\n",
       "      <td>83.322857</td>\n",
       "      <td>47.93</td>\n",
       "      <td>16.810000</td>\n",
       "      <td>1.928571</td>\n",
       "      <td>26.442857</td>\n",
       "      <td>5.800000</td>\n",
       "      <td>30.6</td>\n",
       "      <td>22.8</td>\n",
       "      <td>84.6</td>\n",
       "    </tr>\n",
       "    <tr>\n",
       "      <th>693</th>\n",
       "      <td>2003</td>\n",
       "      <td>35</td>\n",
       "      <td>0.07260</td>\n",
       "      <td>0.100000</td>\n",
       "      <td>0.204371</td>\n",
       "      <td>0.160357</td>\n",
       "      <td>98.68</td>\n",
       "      <td>300.668571</td>\n",
       "      <td>300.728571</td>\n",
       "      <td>297.048571</td>\n",
       "      <td>...</td>\n",
       "      <td>50.86</td>\n",
       "      <td>80.797143</td>\n",
       "      <td>98.68</td>\n",
       "      <td>18.571429</td>\n",
       "      <td>2.542857</td>\n",
       "      <td>27.914286</td>\n",
       "      <td>6.457143</td>\n",
       "      <td>31.7</td>\n",
       "      <td>23.3</td>\n",
       "      <td>69.6</td>\n",
       "    </tr>\n",
       "  </tbody>\n",
       "</table>\n",
       "<p>5 rows × 22 columns</p>\n",
       "</div>"
      ],
      "text/plain": [
       "     year  weekofyear  ndvi_ne   ndvi_nw   ndvi_se   ndvi_sw  \\\n",
       "75   1991          41  0.09300  0.093000  0.145083  0.168167   \n",
       "119  1992          33  0.16395  0.126650  0.215057  0.219271   \n",
       "882  2007          16  0.06890  0.044267  0.108357  0.085029   \n",
       "319  1996          25  0.07125  0.064600  0.146100  0.156171   \n",
       "693  2003          35  0.07260  0.100000  0.204371  0.160357   \n",
       "\n",
       "     precipitation_amt_mm  reanalysis_air_temp_k  reanalysis_avg_temp_k  \\\n",
       "75                  32.10             299.562857             299.671429   \n",
       "119                 65.55             299.215714             299.221429   \n",
       "882                  0.00             299.335714             299.557143   \n",
       "319                 47.93             298.490000             298.564286   \n",
       "693                 98.68             300.668571             300.728571   \n",
       "\n",
       "     reanalysis_dew_point_temp_k        ...          \\\n",
       "75                    295.887143        ...           \n",
       "119                   296.007143        ...           \n",
       "882                   294.507143        ...           \n",
       "319                   295.435714        ...           \n",
       "693                   297.048571        ...           \n",
       "\n",
       "     reanalysis_precip_amt_kg_per_m2  reanalysis_relative_humidity_percent  \\\n",
       "75                             55.10                             80.515714   \n",
       "119                            81.80                             82.750000   \n",
       "882                             2.22                             74.832857   \n",
       "319                            73.70                             83.322857   \n",
       "693                            50.86                             80.797143   \n",
       "\n",
       "     reanalysis_sat_precip_amt_mm  reanalysis_specific_humidity_g_per_kg  \\\n",
       "75                          32.10                              17.344286   \n",
       "119                         65.55                              17.415714   \n",
       "882                          0.00                              15.854286   \n",
       "319                         47.93                              16.810000   \n",
       "693                         98.68                              18.571429   \n",
       "\n",
       "     reanalysis_tdtr_k  station_avg_temp_c  station_diur_temp_rng_c  \\\n",
       "75            2.257143           27.657143                 6.614286   \n",
       "119           1.957143           27.671429                 7.557143   \n",
       "882           3.000000           27.728571                 8.014286   \n",
       "319           1.928571           26.442857                 5.800000   \n",
       "693           2.542857           27.914286                 6.457143   \n",
       "\n",
       "     station_max_temp_c  station_min_temp_c  station_precip_mm  \n",
       "75                 31.7                22.8                8.3  \n",
       "119                31.7                22.8               41.9  \n",
       "882                33.3                22.8                1.8  \n",
       "319                30.6                22.8               84.6  \n",
       "693                31.7                23.3               69.6  \n",
       "\n",
       "[5 rows x 22 columns]"
      ]
     },
     "execution_count": 9,
     "metadata": {},
     "output_type": "execute_result"
    }
   ],
   "source": [
    "sj_train.head()"
   ]
  },
  {
   "cell_type": "code",
   "execution_count": 10,
   "metadata": {},
   "outputs": [
    {
     "data": {
      "text/plain": [
       "75     116\n",
       "119     30\n",
       "882      4\n",
       "319      6\n",
       "693     32\n",
       "Name: total_cases, dtype: int64"
      ]
     },
     "execution_count": 10,
     "metadata": {},
     "output_type": "execute_result"
    }
   ],
   "source": [
    "sj_train_target.head()"
   ]
  },
  {
   "cell_type": "code",
   "execution_count": null,
   "metadata": {
    "collapsed": true
   },
   "outputs": [],
   "source": []
  },
  {
   "cell_type": "code",
   "execution_count": null,
   "metadata": {
    "collapsed": true
   },
   "outputs": [],
   "source": []
  },
  {
   "cell_type": "code",
   "execution_count": null,
   "metadata": {
    "collapsed": true
   },
   "outputs": [],
   "source": []
  },
  {
   "cell_type": "code",
   "execution_count": null,
   "metadata": {
    "collapsed": true
   },
   "outputs": [],
   "source": []
  },
  {
   "cell_type": "code",
   "execution_count": null,
   "metadata": {
    "collapsed": true
   },
   "outputs": [],
   "source": []
  },
  {
   "cell_type": "code",
   "execution_count": null,
   "metadata": {
    "collapsed": true
   },
   "outputs": [],
   "source": []
  },
  {
   "cell_type": "code",
   "execution_count": null,
   "metadata": {
    "collapsed": true
   },
   "outputs": [],
   "source": []
  },
  {
   "cell_type": "code",
   "execution_count": null,
   "metadata": {
    "collapsed": true
   },
   "outputs": [],
   "source": []
  },
  {
   "cell_type": "code",
   "execution_count": 32,
   "metadata": {
    "collapsed": true
   },
   "outputs": [],
   "source": [
    "submission = pd.read_csv(\"data/dengue_labels_test.csv\",\n",
    "                         index_col=[0, 1, 2])\n",
    "\n",
    "submission.total_cases = np.concatenate([sj_predictions, iq_predictions])\n",
    "submission.to_csv(\"submission/submission_MLP.csv\")\n"
   ]
  },
  {
   "cell_type": "code",
   "execution_count": null,
   "metadata": {
    "collapsed": true
   },
   "outputs": [],
   "source": [
    "#submission"
   ]
  },
  {
   "cell_type": "code",
   "execution_count": null,
   "metadata": {
    "collapsed": true
   },
   "outputs": [],
   "source": []
  }
 ],
 "metadata": {
  "kernelspec": {
   "display_name": "Python 3",
   "language": "python",
   "name": "python3"
  },
  "language_info": {
   "codemirror_mode": {
    "name": "ipython",
    "version": 3
   },
   "file_extension": ".py",
   "mimetype": "text/x-python",
   "name": "python",
   "nbconvert_exporter": "python",
   "pygments_lexer": "ipython3",
   "version": "3.6.1"
  }
 },
 "nbformat": 4,
 "nbformat_minor": 2
}
