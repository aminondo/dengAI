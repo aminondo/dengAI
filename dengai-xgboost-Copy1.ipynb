{
 "cells": [
  {
   "cell_type": "code",
   "execution_count": 1,
   "metadata": {
    "collapsed": true
   },
   "outputs": [],
   "source": [
    "# Implementation of a xgboost regressor\n"
   ]
  },
  {
   "cell_type": "code",
   "execution_count": 2,
   "metadata": {},
   "outputs": [
    {
     "name": "stderr",
     "output_type": "stream",
     "text": [
      "/anaconda/lib/python3.6/site-packages/sklearn/cross_validation.py:44: DeprecationWarning: This module was deprecated in version 0.18 in favor of the model_selection module into which all the refactored classes and functions are moved. Also note that the interface of the new CV iterators are different from that of this module. This module will be removed in 0.20.\n",
      "  \"This module will be removed in 0.20.\", DeprecationWarning)\n"
     ]
    }
   ],
   "source": [
    "#import tensorflow as tf\n",
    "import numpy as np\n",
    "import pandas as pd\n",
    "from sklearn import metrics\n",
    "from sklearn.model_selection import train_test_split\n",
    "import xgboost as xgb\n",
    "from sklearn.cross_validation import KFold"
   ]
  },
  {
   "cell_type": "markdown",
   "metadata": {},
   "source": [
    "#### Preprocess Data\n",
    "\n",
    "This function preprocesses the data, fills na values and separates the data from each city, all features are saved.\n",
    "It is able to distinguish when you are loading just the test data and the train data."
   ]
  },
  {
   "cell_type": "code",
   "execution_count": 3,
   "metadata": {
    "collapsed": true
   },
   "outputs": [],
   "source": [
    "# make function to preprocess data\n",
    "def preprocess_data(data_path, labels_path=None):\n",
    "    # load data and set index to city, year, weekofyear\n",
    "    df = pd.read_csv(data_path)\n",
    "    \n",
    "    # fill missing values\n",
    "    df.fillna(method='ffill', inplace=True)\n",
    "\n",
    "    # add labels to dataframe\n",
    "    if labels_path:\n",
    "        labels = pd.read_csv(labels_path)\n",
    "        #df = df.join(labels)\n",
    "    \n",
    "    # separate san juan and iquitos\n",
    "    sj_features = df[df.city == 'sj']\n",
    "    iq_features = df[df.city == 'iq']\n",
    "    if labels_path:\n",
    "        sj_labels = labels[labels.city == 'sj']\n",
    "        iq_labels = labels[labels.city == 'iq']    \n",
    "        return sj_features, iq_features, sj_labels, iq_labels\n",
    "    return sj_features, iq_features"
   ]
  },
  {
   "cell_type": "code",
   "execution_count": 4,
   "metadata": {
    "collapsed": true
   },
   "outputs": [],
   "source": [
    "sj_features, iq_features, sj_labels, iq_labels = preprocess_data(\n",
    "                                                                'data/dengue_features_train.csv',\n",
    "                                                                labels_path=\"data/dengue_labels_train.csv\")"
   ]
  },
  {
   "cell_type": "code",
   "execution_count": 5,
   "metadata": {
    "collapsed": true
   },
   "outputs": [],
   "source": [
    "#load final test data\n",
    "sj_test_final, iq_test_final = preprocess_data(\"data/dengue_features_test.csv\")"
   ]
  },
  {
   "cell_type": "markdown",
   "metadata": {
    "collapsed": true
   },
   "source": [
    "Since data is already divided by city I remove that column as well as the date column as other columns represent it, so it is kinda redundant, as well as python doesn't like its string formatting"
   ]
  },
  {
   "cell_type": "code",
   "execution_count": 6,
   "metadata": {
    "collapsed": true
   },
   "outputs": [],
   "source": [
    "#dropping date and city as city already divided\n",
    "\n",
    "iq_features = iq_features.drop(iq_features.columns[[0,3]], axis=1)\n",
    "sj_features = sj_features.drop(sj_features.columns[[0,3]], axis=1)\n",
    "sj_test_final = sj_test_final.drop(sj_test_final.columns[[0,3]], axis=1)\n",
    "iq_test_final = iq_test_final.drop(iq_test_final.columns[[0,3]], axis=1)\n",
    "\n",
    "#removing city, year, weekofyear from labels tables\n",
    "sj_labels = sj_labels.total_cases\n",
    "#sj_labels = sj_labels.set_index([0,2])\n",
    "iq_labels = iq_labels.total_cases\n",
    "\n",
    "#sj_labels.head()"
   ]
  },
  {
   "cell_type": "markdown",
   "metadata": {},
   "source": [
    "I don't separate data since kfolds does it for me"
   ]
  },
  {
   "cell_type": "code",
   "execution_count": 24,
   "metadata": {
    "collapsed": true
   },
   "outputs": [],
   "source": [
    "#since data is linear it makes sense to separate data linearly\n",
    "#split train and test data\n",
    "'''\n",
    "sj_train = sj_features.head(800)\n",
    "sj_train_target = sj_labels.head(800)\n",
    "sj_test = sj_features.tail(sj_features.shape[0] - 800)\n",
    "sj_test_target = sj_labels.tail(sj_labels.shape[0] - 800)\n",
    "\n",
    "\n",
    "\n",
    "iq_train = iq_features.head(400)\n",
    "iq_train_target = iq_labels.head(400)\n",
    "iq_test = iq_features.tail(iq_features.shape[0] - 400)\n",
    "iq_test_target = iq_labels.tail(iq_labels.shape[0] - 400)\n",
    "'''\n",
    "\n"
   ]
  },
  {
   "cell_type": "code",
   "execution_count": 8,
   "metadata": {
    "collapsed": true
   },
   "outputs": [],
   "source": [
    "#randomly separating data\n",
    "# splitting data into training set and validation set\n",
    "'''\n",
    "sj_train, sj_test, sj_train_target, sj_test_target = train_test_split(sj_features, sj_labels, test_size=0.2, random_state=41)\n",
    "\n",
    "iq_train, iq_test, iq_train_target, iq_test_target = train_test_split(iq_features, iq_labels, test_size=0.2, random_state=41)\n",
    "'''\n"
   ]
  },
  {
   "cell_type": "code",
   "execution_count": 7,
   "metadata": {},
   "outputs": [
    {
     "data": {
      "text/html": [
       "<div>\n",
       "<style>\n",
       "    .dataframe thead tr:only-child th {\n",
       "        text-align: right;\n",
       "    }\n",
       "\n",
       "    .dataframe thead th {\n",
       "        text-align: left;\n",
       "    }\n",
       "\n",
       "    .dataframe tbody tr th {\n",
       "        vertical-align: top;\n",
       "    }\n",
       "</style>\n",
       "<table border=\"1\" class=\"dataframe\">\n",
       "  <thead>\n",
       "    <tr style=\"text-align: right;\">\n",
       "      <th></th>\n",
       "      <th>year</th>\n",
       "      <th>weekofyear</th>\n",
       "      <th>ndvi_ne</th>\n",
       "      <th>ndvi_nw</th>\n",
       "      <th>ndvi_se</th>\n",
       "      <th>ndvi_sw</th>\n",
       "      <th>precipitation_amt_mm</th>\n",
       "      <th>reanalysis_air_temp_k</th>\n",
       "      <th>reanalysis_avg_temp_k</th>\n",
       "      <th>reanalysis_dew_point_temp_k</th>\n",
       "      <th>...</th>\n",
       "      <th>reanalysis_precip_amt_kg_per_m2</th>\n",
       "      <th>reanalysis_relative_humidity_percent</th>\n",
       "      <th>reanalysis_sat_precip_amt_mm</th>\n",
       "      <th>reanalysis_specific_humidity_g_per_kg</th>\n",
       "      <th>reanalysis_tdtr_k</th>\n",
       "      <th>station_avg_temp_c</th>\n",
       "      <th>station_diur_temp_rng_c</th>\n",
       "      <th>station_max_temp_c</th>\n",
       "      <th>station_min_temp_c</th>\n",
       "      <th>station_precip_mm</th>\n",
       "    </tr>\n",
       "  </thead>\n",
       "  <tbody>\n",
       "    <tr>\n",
       "      <th>0</th>\n",
       "      <td>1990</td>\n",
       "      <td>18</td>\n",
       "      <td>0.122600</td>\n",
       "      <td>0.103725</td>\n",
       "      <td>0.198483</td>\n",
       "      <td>0.177617</td>\n",
       "      <td>12.42</td>\n",
       "      <td>297.572857</td>\n",
       "      <td>297.742857</td>\n",
       "      <td>292.414286</td>\n",
       "      <td>...</td>\n",
       "      <td>32.00</td>\n",
       "      <td>73.365714</td>\n",
       "      <td>12.42</td>\n",
       "      <td>14.012857</td>\n",
       "      <td>2.628571</td>\n",
       "      <td>25.442857</td>\n",
       "      <td>6.900000</td>\n",
       "      <td>29.4</td>\n",
       "      <td>20.0</td>\n",
       "      <td>16.0</td>\n",
       "    </tr>\n",
       "    <tr>\n",
       "      <th>1</th>\n",
       "      <td>1990</td>\n",
       "      <td>19</td>\n",
       "      <td>0.169900</td>\n",
       "      <td>0.142175</td>\n",
       "      <td>0.162357</td>\n",
       "      <td>0.155486</td>\n",
       "      <td>22.82</td>\n",
       "      <td>298.211429</td>\n",
       "      <td>298.442857</td>\n",
       "      <td>293.951429</td>\n",
       "      <td>...</td>\n",
       "      <td>17.94</td>\n",
       "      <td>77.368571</td>\n",
       "      <td>22.82</td>\n",
       "      <td>15.372857</td>\n",
       "      <td>2.371429</td>\n",
       "      <td>26.714286</td>\n",
       "      <td>6.371429</td>\n",
       "      <td>31.7</td>\n",
       "      <td>22.2</td>\n",
       "      <td>8.6</td>\n",
       "    </tr>\n",
       "    <tr>\n",
       "      <th>2</th>\n",
       "      <td>1990</td>\n",
       "      <td>20</td>\n",
       "      <td>0.032250</td>\n",
       "      <td>0.172967</td>\n",
       "      <td>0.157200</td>\n",
       "      <td>0.170843</td>\n",
       "      <td>34.54</td>\n",
       "      <td>298.781429</td>\n",
       "      <td>298.878571</td>\n",
       "      <td>295.434286</td>\n",
       "      <td>...</td>\n",
       "      <td>26.10</td>\n",
       "      <td>82.052857</td>\n",
       "      <td>34.54</td>\n",
       "      <td>16.848571</td>\n",
       "      <td>2.300000</td>\n",
       "      <td>26.714286</td>\n",
       "      <td>6.485714</td>\n",
       "      <td>32.2</td>\n",
       "      <td>22.8</td>\n",
       "      <td>41.4</td>\n",
       "    </tr>\n",
       "    <tr>\n",
       "      <th>3</th>\n",
       "      <td>1990</td>\n",
       "      <td>21</td>\n",
       "      <td>0.128633</td>\n",
       "      <td>0.245067</td>\n",
       "      <td>0.227557</td>\n",
       "      <td>0.235886</td>\n",
       "      <td>15.36</td>\n",
       "      <td>298.987143</td>\n",
       "      <td>299.228571</td>\n",
       "      <td>295.310000</td>\n",
       "      <td>...</td>\n",
       "      <td>13.90</td>\n",
       "      <td>80.337143</td>\n",
       "      <td>15.36</td>\n",
       "      <td>16.672857</td>\n",
       "      <td>2.428571</td>\n",
       "      <td>27.471429</td>\n",
       "      <td>6.771429</td>\n",
       "      <td>33.3</td>\n",
       "      <td>23.3</td>\n",
       "      <td>4.0</td>\n",
       "    </tr>\n",
       "    <tr>\n",
       "      <th>4</th>\n",
       "      <td>1990</td>\n",
       "      <td>22</td>\n",
       "      <td>0.196200</td>\n",
       "      <td>0.262200</td>\n",
       "      <td>0.251200</td>\n",
       "      <td>0.247340</td>\n",
       "      <td>7.52</td>\n",
       "      <td>299.518571</td>\n",
       "      <td>299.664286</td>\n",
       "      <td>295.821429</td>\n",
       "      <td>...</td>\n",
       "      <td>12.20</td>\n",
       "      <td>80.460000</td>\n",
       "      <td>7.52</td>\n",
       "      <td>17.210000</td>\n",
       "      <td>3.014286</td>\n",
       "      <td>28.942857</td>\n",
       "      <td>9.371429</td>\n",
       "      <td>35.0</td>\n",
       "      <td>23.9</td>\n",
       "      <td>5.8</td>\n",
       "    </tr>\n",
       "  </tbody>\n",
       "</table>\n",
       "<p>5 rows × 22 columns</p>\n",
       "</div>"
      ],
      "text/plain": [
       "   year  weekofyear   ndvi_ne   ndvi_nw   ndvi_se   ndvi_sw  \\\n",
       "0  1990          18  0.122600  0.103725  0.198483  0.177617   \n",
       "1  1990          19  0.169900  0.142175  0.162357  0.155486   \n",
       "2  1990          20  0.032250  0.172967  0.157200  0.170843   \n",
       "3  1990          21  0.128633  0.245067  0.227557  0.235886   \n",
       "4  1990          22  0.196200  0.262200  0.251200  0.247340   \n",
       "\n",
       "   precipitation_amt_mm  reanalysis_air_temp_k  reanalysis_avg_temp_k  \\\n",
       "0                 12.42             297.572857             297.742857   \n",
       "1                 22.82             298.211429             298.442857   \n",
       "2                 34.54             298.781429             298.878571   \n",
       "3                 15.36             298.987143             299.228571   \n",
       "4                  7.52             299.518571             299.664286   \n",
       "\n",
       "   reanalysis_dew_point_temp_k        ...          \\\n",
       "0                   292.414286        ...           \n",
       "1                   293.951429        ...           \n",
       "2                   295.434286        ...           \n",
       "3                   295.310000        ...           \n",
       "4                   295.821429        ...           \n",
       "\n",
       "   reanalysis_precip_amt_kg_per_m2  reanalysis_relative_humidity_percent  \\\n",
       "0                            32.00                             73.365714   \n",
       "1                            17.94                             77.368571   \n",
       "2                            26.10                             82.052857   \n",
       "3                            13.90                             80.337143   \n",
       "4                            12.20                             80.460000   \n",
       "\n",
       "   reanalysis_sat_precip_amt_mm  reanalysis_specific_humidity_g_per_kg  \\\n",
       "0                         12.42                              14.012857   \n",
       "1                         22.82                              15.372857   \n",
       "2                         34.54                              16.848571   \n",
       "3                         15.36                              16.672857   \n",
       "4                          7.52                              17.210000   \n",
       "\n",
       "   reanalysis_tdtr_k  station_avg_temp_c  station_diur_temp_rng_c  \\\n",
       "0           2.628571           25.442857                 6.900000   \n",
       "1           2.371429           26.714286                 6.371429   \n",
       "2           2.300000           26.714286                 6.485714   \n",
       "3           2.428571           27.471429                 6.771429   \n",
       "4           3.014286           28.942857                 9.371429   \n",
       "\n",
       "   station_max_temp_c  station_min_temp_c  station_precip_mm  \n",
       "0                29.4                20.0               16.0  \n",
       "1                31.7                22.2                8.6  \n",
       "2                32.2                22.8               41.4  \n",
       "3                33.3                23.3                4.0  \n",
       "4                35.0                23.9                5.8  \n",
       "\n",
       "[5 rows x 22 columns]"
      ]
     },
     "execution_count": 7,
     "metadata": {},
     "output_type": "execute_result"
    }
   ],
   "source": [
    "sj_features.head()"
   ]
  },
  {
   "cell_type": "code",
   "execution_count": 8,
   "metadata": {},
   "outputs": [
    {
     "data": {
      "text/html": [
       "<div>\n",
       "<style>\n",
       "    .dataframe thead tr:only-child th {\n",
       "        text-align: right;\n",
       "    }\n",
       "\n",
       "    .dataframe thead th {\n",
       "        text-align: left;\n",
       "    }\n",
       "\n",
       "    .dataframe tbody tr th {\n",
       "        vertical-align: top;\n",
       "    }\n",
       "</style>\n",
       "<table border=\"1\" class=\"dataframe\">\n",
       "  <thead>\n",
       "    <tr style=\"text-align: right;\">\n",
       "      <th></th>\n",
       "      <th>year</th>\n",
       "      <th>weekofyear</th>\n",
       "      <th>ndvi_ne</th>\n",
       "      <th>ndvi_nw</th>\n",
       "      <th>ndvi_se</th>\n",
       "      <th>ndvi_sw</th>\n",
       "      <th>precipitation_amt_mm</th>\n",
       "      <th>reanalysis_air_temp_k</th>\n",
       "      <th>reanalysis_avg_temp_k</th>\n",
       "      <th>reanalysis_dew_point_temp_k</th>\n",
       "      <th>...</th>\n",
       "      <th>reanalysis_precip_amt_kg_per_m2</th>\n",
       "      <th>reanalysis_relative_humidity_percent</th>\n",
       "      <th>reanalysis_sat_precip_amt_mm</th>\n",
       "      <th>reanalysis_specific_humidity_g_per_kg</th>\n",
       "      <th>reanalysis_tdtr_k</th>\n",
       "      <th>station_avg_temp_c</th>\n",
       "      <th>station_diur_temp_rng_c</th>\n",
       "      <th>station_max_temp_c</th>\n",
       "      <th>station_min_temp_c</th>\n",
       "      <th>station_precip_mm</th>\n",
       "    </tr>\n",
       "  </thead>\n",
       "  <tbody>\n",
       "    <tr>\n",
       "      <th>80</th>\n",
       "      <td>1991</td>\n",
       "      <td>46</td>\n",
       "      <td>0.095400</td>\n",
       "      <td>0.11140</td>\n",
       "      <td>0.194943</td>\n",
       "      <td>0.198057</td>\n",
       "      <td>78.73</td>\n",
       "      <td>298.685714</td>\n",
       "      <td>298.785714</td>\n",
       "      <td>295.615714</td>\n",
       "      <td>...</td>\n",
       "      <td>72.70</td>\n",
       "      <td>83.514286</td>\n",
       "      <td>78.73</td>\n",
       "      <td>17.061429</td>\n",
       "      <td>1.971429</td>\n",
       "      <td>26.657143</td>\n",
       "      <td>6.742857</td>\n",
       "      <td>31.1</td>\n",
       "      <td>22.2</td>\n",
       "      <td>28.2</td>\n",
       "    </tr>\n",
       "    <tr>\n",
       "      <th>90</th>\n",
       "      <td>1992</td>\n",
       "      <td>4</td>\n",
       "      <td>0.122533</td>\n",
       "      <td>0.13105</td>\n",
       "      <td>0.188843</td>\n",
       "      <td>0.168871</td>\n",
       "      <td>0.00</td>\n",
       "      <td>297.091429</td>\n",
       "      <td>297.335714</td>\n",
       "      <td>293.021429</td>\n",
       "      <td>...</td>\n",
       "      <td>5.11</td>\n",
       "      <td>78.291429</td>\n",
       "      <td>0.00</td>\n",
       "      <td>14.482857</td>\n",
       "      <td>2.357143</td>\n",
       "      <td>24.857143</td>\n",
       "      <td>7.442857</td>\n",
       "      <td>30.6</td>\n",
       "      <td>20.0</td>\n",
       "      <td>1.3</td>\n",
       "    </tr>\n",
       "  </tbody>\n",
       "</table>\n",
       "<p>2 rows × 22 columns</p>\n",
       "</div>"
      ],
      "text/plain": [
       "    year  weekofyear   ndvi_ne  ndvi_nw   ndvi_se   ndvi_sw  \\\n",
       "80  1991          46  0.095400  0.11140  0.194943  0.198057   \n",
       "90  1992           4  0.122533  0.13105  0.188843  0.168871   \n",
       "\n",
       "    precipitation_amt_mm  reanalysis_air_temp_k  reanalysis_avg_temp_k  \\\n",
       "80                 78.73             298.685714             298.785714   \n",
       "90                  0.00             297.091429             297.335714   \n",
       "\n",
       "    reanalysis_dew_point_temp_k        ...          \\\n",
       "80                   295.615714        ...           \n",
       "90                   293.021429        ...           \n",
       "\n",
       "    reanalysis_precip_amt_kg_per_m2  reanalysis_relative_humidity_percent  \\\n",
       "80                            72.70                             83.514286   \n",
       "90                             5.11                             78.291429   \n",
       "\n",
       "    reanalysis_sat_precip_amt_mm  reanalysis_specific_humidity_g_per_kg  \\\n",
       "80                         78.73                              17.061429   \n",
       "90                          0.00                              14.482857   \n",
       "\n",
       "    reanalysis_tdtr_k  station_avg_temp_c  station_diur_temp_rng_c  \\\n",
       "80           1.971429           26.657143                 6.742857   \n",
       "90           2.357143           24.857143                 7.442857   \n",
       "\n",
       "    station_max_temp_c  station_min_temp_c  station_precip_mm  \n",
       "80                31.1                22.2               28.2  \n",
       "90                30.6                20.0                1.3  \n",
       "\n",
       "[2 rows x 22 columns]"
      ]
     },
     "execution_count": 8,
     "metadata": {},
     "output_type": "execute_result"
    }
   ],
   "source": [
    "sj_features.iloc[[80,90]]"
   ]
  },
  {
   "cell_type": "markdown",
   "metadata": {},
   "source": [
    "-------------------------------------------------------------------------------------------------------------------\n",
    "\n",
    "Before I actually build my models I worked around with the following model to test hyperparameters\n",
    "-----------------------------------------------------------------------------------------------------------"
   ]
  },
  {
   "cell_type": "code",
   "execution_count": 9,
   "metadata": {},
   "outputs": [
    {
     "data": {
      "text/plain": [
       "936"
      ]
     },
     "execution_count": 9,
     "metadata": {},
     "output_type": "execute_result"
    }
   ],
   "source": [
    "sj_predictions = np.zeros(sj_features.shape[0])\n",
    "len(sj_predictions)"
   ]
  },
  {
   "cell_type": "code",
   "execution_count": 20,
   "metadata": {
    "collapsed": true
   },
   "outputs": [],
   "source": [
    "kf = KFold(sj_features.shape[0], n_folds=10)\n",
    "\n"
   ]
  },
  {
   "cell_type": "code",
   "execution_count": 21,
   "metadata": {},
   "outputs": [
    {
     "name": "stdout",
     "output_type": "stream",
     "text": [
      "10.2802037381\n",
      "46.7331123352\n",
      "18.9131377403\n",
      "7.06084261549\n",
      "54.4977999139\n",
      "43.6185969393\n",
      "5.96552631703\n",
      "7.10489999487\n",
      "22.100781177\n",
      "69.013759613\n",
      "13.2160291672\n",
      "9.82777933364\n",
      "20.9971737405\n",
      "9.91921404575\n",
      "6.95114263575\n",
      "7.37277461113\n",
      "13.8583940527\n",
      "15.9421124666\n",
      "10.4877642497\n",
      "30.3295153328\n"
     ]
    }
   ],
   "source": [
    "for trainIndex, testIndex in kf:\n",
    "    trainFold, testFold = sj_features.iloc[trainIndex], sj_features.iloc[testIndex]\n",
    "    trainFoldTarget, testFoldTarget = sj_labels.iloc[trainIndex], sj_labels.iloc[testIndex]\n",
    "    \n",
    "    xgbr = xgb.XGBRegressor(n_estimators = 550, # number of boosted trees\n",
    "                                learning_rate = 0.002, # step size shrinkage used in update to prevent overfitting\n",
    "                                max_depth = 7,\n",
    "                                subsample = .6815,\n",
    "                                colsample_bytree = .701)\n",
    "    \n",
    "    xgbr.fit(trainFold, trainFoldTarget)\n",
    "    xgbpred =xgbr.predict(testFold)\n",
    "    #testPred.append(xgbr.predict(test))\n",
    "    sj_predictions[testIndex] = xgbpred\n",
    "    \n",
    "    # Print the MAE\n",
    "    print(metrics.mean_absolute_error(testFoldTarget, xgbpred))\n"
   ]
  },
  {
   "cell_type": "code",
   "execution_count": 22,
   "metadata": {},
   "outputs": [
    {
     "name": "stdout",
     "output_type": "stream",
     "text": [
      "21.2247206569\n"
     ]
    }
   ],
   "source": [
    "print(metrics.mean_absolute_error(sj_labels, sj_predictions))\n",
    "#obviously this number is going to be really small since we tested our data with the same data we used for \n",
    "#training"
   ]
  },
  {
   "cell_type": "markdown",
   "metadata": {},
   "source": [
    "-------------------------------------------------------------------------------------------------------\n",
    "-------------------------------------------------------------------------------------------------------"
   ]
  },
  {
   "cell_type": "code",
   "execution_count": 12,
   "metadata": {
    "collapsed": true
   },
   "outputs": [],
   "source": [
    "def xboostRegressor(city_feat, city_labels):\n",
    "    '''\n",
    "    this function builds a xboost model given a city\n",
    "    '''\n",
    "    \n",
    "    predictions = np.zeros(city_feat.shape[0])\n",
    "    \n",
    "    kf = KFold(city_feat.shape[0], n_folds=15)\n",
    "    \n",
    "    for trainIndex, testIndex in kf:\n",
    "        trainFold, testFold = city_feat.iloc[trainIndex], city_feat.iloc[testIndex]\n",
    "        trainFoldTarget, testFoldTarget = city_labels.iloc[trainIndex], city_labels.iloc[testIndex]\n",
    "\n",
    "        xgbr = xgb.XGBRegressor(n_estimators = 100, # number of boosted trees\n",
    "                                learning_rate = 0.01, # step size shrinkage used in update to prevent overfitting\n",
    "                                max_depth = 7,\n",
    "                                subsample = .6815,\n",
    "                                colsample_bytree = .701)\n",
    "\n",
    "        xgbr.fit(trainFold, trainFoldTarget)\n",
    "        xgbpred =xgbr.predict(testFold)\n",
    "        #testPred.append(xgbr.predict(test))\n",
    "        sj_predictions[testIndex] = xgbpred\n",
    "    return xgbr\n",
    "    \n",
    "    # Print the AUC\n",
    "    #print(metrics.mean_absolute_error(testFoldTarget, xgbpred))"
   ]
  },
  {
   "cell_type": "code",
   "execution_count": 13,
   "metadata": {
    "collapsed": true
   },
   "outputs": [],
   "source": [
    "sj_model = xboostRegressor(sj_features, sj_labels)\n",
    "iq_model = xboostRegressor(iq_features, iq_labels)"
   ]
  },
  {
   "cell_type": "code",
   "execution_count": 111,
   "metadata": {
    "collapsed": true
   },
   "outputs": [],
   "source": [
    "\n",
    "final_sj_predictions = sj_model.predict(sj_test_final)\n",
    "final_iq_predictions = iq_model.predict(iq_test_final)"
   ]
  },
  {
   "cell_type": "code",
   "execution_count": 114,
   "metadata": {
    "collapsed": true
   },
   "outputs": [],
   "source": [
    "submission = pd.read_csv(\"data/dengue_labels_test.csv\",\n",
    "                         index_col=[0, 1, 2])\n",
    "\n",
    "\n",
    "submission.total_cases = np.concatenate([final_sj_predictions.astype(np.int64), final_iq_predictions.astype(np.int64)])\n",
    "submission.to_csv(\"submission/submission_xgboost.csv\")\n"
   ]
  },
  {
   "cell_type": "code",
   "execution_count": null,
   "metadata": {
    "collapsed": true
   },
   "outputs": [],
   "source": [
    "#submission"
   ]
  },
  {
   "cell_type": "code",
   "execution_count": null,
   "metadata": {
    "collapsed": true
   },
   "outputs": [],
   "source": []
  }
 ],
 "metadata": {
  "kernelspec": {
   "display_name": "Python 3",
   "language": "python",
   "name": "python3"
  },
  "language_info": {
   "codemirror_mode": {
    "name": "ipython",
    "version": 3
   },
   "file_extension": ".py",
   "mimetype": "text/x-python",
   "name": "python",
   "nbconvert_exporter": "python",
   "pygments_lexer": "ipython3",
   "version": "3.6.1"
  }
 },
 "nbformat": 4,
 "nbformat_minor": 2
}
